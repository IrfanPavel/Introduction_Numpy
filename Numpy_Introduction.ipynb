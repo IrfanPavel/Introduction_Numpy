{
  "nbformat": 4,
  "nbformat_minor": 0,
  "metadata": {
    "colab": {
      "name": "Numpy-Introduction.ipynb",
      "provenance": [],
      "authorship_tag": "ABX9TyMA90Pye4jyuxiHk8kSn7iD",
      "include_colab_link": true
    },
    "kernelspec": {
      "name": "python3",
      "display_name": "Python 3"
    },
    "language_info": {
      "name": "python"
    }
  },
  "cells": [
    {
      "cell_type": "markdown",
      "metadata": {
        "id": "view-in-github",
        "colab_type": "text"
      },
      "source": [
        "<a href=\"https://colab.research.google.com/github/IrfanPavel/Introduction_Numpy/blob/main/Numpy_Introduction.ipynb\" target=\"_parent\"><img src=\"https://colab.research.google.com/assets/colab-badge.svg\" alt=\"Open In Colab\"/></a>"
      ]
    },
    {
      "cell_type": "code",
      "metadata": {
        "id": "1ZBs-C6tcFYf"
      },
      "source": [
        "#Importing Numpy\n",
        "import numpy as np"
      ],
      "execution_count": 1,
      "outputs": []
    },
    {
      "cell_type": "code",
      "metadata": {
        "id": "LCgbVKQ_cUYr"
      },
      "source": [
        "#Data Types and Attributes \n",
        "#ndarray-n dimensional array\n",
        "#1D-array(vector),2d-dim array(Matrix),3d-dim(Matrix)-table,row,col"
      ],
      "execution_count": 2,
      "outputs": []
    },
    {
      "cell_type": "code",
      "metadata": {
        "id": "_RNKei8Oc-fo"
      },
      "source": [
        "a1=np.array([1,2,3])\n",
        "\n",
        "a2=np.array([[1,2.0,3.3],\n",
        "             [4,5,6.5]])\n",
        "\n",
        "a3=np.array([[[1,2,3],\n",
        "              [4,5,6],\n",
        "              [7,8,9]],\n",
        "            [[10,11,12],\n",
        "             [13,14,15],\n",
        "             [16,17,18]]])"
      ],
      "execution_count": 3,
      "outputs": []
    },
    {
      "cell_type": "code",
      "metadata": {
        "colab": {
          "base_uri": "https://localhost:8080/"
        },
        "id": "KnXWShHPehPv",
        "outputId": "6e9ae676-638d-4df7-946d-818a81c35d11"
      },
      "source": [
        "print(a1.shape)\n",
        "print(a1.ndim)\n",
        "a1.dtype"
      ],
      "execution_count": 4,
      "outputs": [
        {
          "output_type": "stream",
          "text": [
            "(3,)\n",
            "1\n"
          ],
          "name": "stdout"
        },
        {
          "output_type": "execute_result",
          "data": {
            "text/plain": [
              "dtype('int64')"
            ]
          },
          "metadata": {},
          "execution_count": 4
        }
      ]
    },
    {
      "cell_type": "code",
      "metadata": {
        "colab": {
          "base_uri": "https://localhost:8080/"
        },
        "id": "lp71AJwPfTNt",
        "outputId": "e5fe3de8-bb72-47b2-a6d6-448ed0088aba"
      },
      "source": [
        "a2.shape,a2.ndim,a2.dtype,a2.size,type(a2)"
      ],
      "execution_count": 5,
      "outputs": [
        {
          "output_type": "execute_result",
          "data": {
            "text/plain": [
              "((2, 3), 2, dtype('float64'), 6, numpy.ndarray)"
            ]
          },
          "metadata": {},
          "execution_count": 5
        }
      ]
    },
    {
      "cell_type": "code",
      "metadata": {
        "colab": {
          "base_uri": "https://localhost:8080/"
        },
        "id": "B0JjN4y-ftt3",
        "outputId": "ad5274a9-1b84-44fc-bff2-39e891150237"
      },
      "source": [
        "a3.shape,a3.ndim,a3.dtype,a3.size,type(a3)"
      ],
      "execution_count": 6,
      "outputs": [
        {
          "output_type": "execute_result",
          "data": {
            "text/plain": [
              "((2, 3, 3), 3, dtype('int64'), 18, numpy.ndarray)"
            ]
          },
          "metadata": {},
          "execution_count": 6
        }
      ]
    },
    {
      "cell_type": "code",
      "metadata": {
        "colab": {
          "base_uri": "https://localhost:8080/"
        },
        "id": "KXSkuVXegU2w",
        "outputId": "3584abaf-9060-4e04-8ca1-1f4672135fef"
      },
      "source": [
        "a1"
      ],
      "execution_count": 7,
      "outputs": [
        {
          "output_type": "execute_result",
          "data": {
            "text/plain": [
              "array([1, 2, 3])"
            ]
          },
          "metadata": {},
          "execution_count": 7
        }
      ]
    },
    {
      "cell_type": "code",
      "metadata": {
        "colab": {
          "base_uri": "https://localhost:8080/"
        },
        "id": "usxm1b3WgW36",
        "outputId": "4a176541-b22d-4a11-8f41-c9f131076606"
      },
      "source": [
        "a2"
      ],
      "execution_count": 8,
      "outputs": [
        {
          "output_type": "execute_result",
          "data": {
            "text/plain": [
              "array([[1. , 2. , 3.3],\n",
              "       [4. , 5. , 6.5]])"
            ]
          },
          "metadata": {},
          "execution_count": 8
        }
      ]
    },
    {
      "cell_type": "code",
      "metadata": {
        "colab": {
          "base_uri": "https://localhost:8080/"
        },
        "id": "wqpYUk9-gYrL",
        "outputId": "69ea4e0b-8156-4b23-c38c-b6f355e4a8d7"
      },
      "source": [
        "a3"
      ],
      "execution_count": 9,
      "outputs": [
        {
          "output_type": "execute_result",
          "data": {
            "text/plain": [
              "array([[[ 1,  2,  3],\n",
              "        [ 4,  5,  6],\n",
              "        [ 7,  8,  9]],\n",
              "\n",
              "       [[10, 11, 12],\n",
              "        [13, 14, 15],\n",
              "        [16, 17, 18]]])"
            ]
          },
          "metadata": {},
          "execution_count": 9
        }
      ]
    },
    {
      "cell_type": "code",
      "metadata": {
        "id": "ruJe5unpg50z"
      },
      "source": [
        "#Pandas Dataframe out of Numpy arrays\n",
        "import pandas as pd\n",
        "\n"
      ],
      "execution_count": 10,
      "outputs": []
    },
    {
      "cell_type": "code",
      "metadata": {
        "colab": {
          "base_uri": "https://localhost:8080/",
          "height": 203
        },
        "id": "IaZgcRjMiJcE",
        "outputId": "d283e0cf-d1c2-4ef7-f2fd-23d47b925ae5"
      },
      "source": [
        "df=pd.DataFrame(np.random.randint(20,size=(5,3)),\n",
        "                columns=['horse','cycle','anaconda'])\n",
        "df"
      ],
      "execution_count": 11,
      "outputs": [
        {
          "output_type": "execute_result",
          "data": {
            "text/html": [
              "<div>\n",
              "<style scoped>\n",
              "    .dataframe tbody tr th:only-of-type {\n",
              "        vertical-align: middle;\n",
              "    }\n",
              "\n",
              "    .dataframe tbody tr th {\n",
              "        vertical-align: top;\n",
              "    }\n",
              "\n",
              "    .dataframe thead th {\n",
              "        text-align: right;\n",
              "    }\n",
              "</style>\n",
              "<table border=\"1\" class=\"dataframe\">\n",
              "  <thead>\n",
              "    <tr style=\"text-align: right;\">\n",
              "      <th></th>\n",
              "      <th>horse</th>\n",
              "      <th>cycle</th>\n",
              "      <th>anaconda</th>\n",
              "    </tr>\n",
              "  </thead>\n",
              "  <tbody>\n",
              "    <tr>\n",
              "      <th>0</th>\n",
              "      <td>10</td>\n",
              "      <td>11</td>\n",
              "      <td>18</td>\n",
              "    </tr>\n",
              "    <tr>\n",
              "      <th>1</th>\n",
              "      <td>6</td>\n",
              "      <td>14</td>\n",
              "      <td>5</td>\n",
              "    </tr>\n",
              "    <tr>\n",
              "      <th>2</th>\n",
              "      <td>12</td>\n",
              "      <td>1</td>\n",
              "      <td>3</td>\n",
              "    </tr>\n",
              "    <tr>\n",
              "      <th>3</th>\n",
              "      <td>8</td>\n",
              "      <td>13</td>\n",
              "      <td>2</td>\n",
              "    </tr>\n",
              "    <tr>\n",
              "      <th>4</th>\n",
              "      <td>1</td>\n",
              "      <td>13</td>\n",
              "      <td>9</td>\n",
              "    </tr>\n",
              "  </tbody>\n",
              "</table>\n",
              "</div>"
            ],
            "text/plain": [
              "   horse  cycle  anaconda\n",
              "0     10     11        18\n",
              "1      6     14         5\n",
              "2     12      1         3\n",
              "3      8     13         2\n",
              "4      1     13         9"
            ]
          },
          "metadata": {},
          "execution_count": 11
        }
      ]
    },
    {
      "cell_type": "code",
      "metadata": {
        "colab": {
          "base_uri": "https://localhost:8080/"
        },
        "id": "Sh4c2cjRimXj",
        "outputId": "fbe17d6f-54df-46d8-947b-c64791c14864"
      },
      "source": [
        "a2"
      ],
      "execution_count": 12,
      "outputs": [
        {
          "output_type": "execute_result",
          "data": {
            "text/plain": [
              "array([[1. , 2. , 3.3],\n",
              "       [4. , 5. , 6.5]])"
            ]
          },
          "metadata": {},
          "execution_count": 12
        }
      ]
    },
    {
      "cell_type": "code",
      "metadata": {
        "colab": {
          "base_uri": "https://localhost:8080/",
          "height": 110
        },
        "id": "_OsoZrvXippd",
        "outputId": "03928221-042d-413f-ec5a-b76cf0668356"
      },
      "source": [
        "df2=pd.DataFrame(a2,columns=[\"a\",\"b\",\"c\"])\n",
        "df2"
      ],
      "execution_count": 13,
      "outputs": [
        {
          "output_type": "execute_result",
          "data": {
            "text/html": [
              "<div>\n",
              "<style scoped>\n",
              "    .dataframe tbody tr th:only-of-type {\n",
              "        vertical-align: middle;\n",
              "    }\n",
              "\n",
              "    .dataframe tbody tr th {\n",
              "        vertical-align: top;\n",
              "    }\n",
              "\n",
              "    .dataframe thead th {\n",
              "        text-align: right;\n",
              "    }\n",
              "</style>\n",
              "<table border=\"1\" class=\"dataframe\">\n",
              "  <thead>\n",
              "    <tr style=\"text-align: right;\">\n",
              "      <th></th>\n",
              "      <th>a</th>\n",
              "      <th>b</th>\n",
              "      <th>c</th>\n",
              "    </tr>\n",
              "  </thead>\n",
              "  <tbody>\n",
              "    <tr>\n",
              "      <th>0</th>\n",
              "      <td>1.0</td>\n",
              "      <td>2.0</td>\n",
              "      <td>3.3</td>\n",
              "    </tr>\n",
              "    <tr>\n",
              "      <th>1</th>\n",
              "      <td>4.0</td>\n",
              "      <td>5.0</td>\n",
              "      <td>6.5</td>\n",
              "    </tr>\n",
              "  </tbody>\n",
              "</table>\n",
              "</div>"
            ],
            "text/plain": [
              "     a    b    c\n",
              "0  1.0  2.0  3.3\n",
              "1  4.0  5.0  6.5"
            ]
          },
          "metadata": {},
          "execution_count": 13
        }
      ]
    },
    {
      "cell_type": "markdown",
      "metadata": {
        "id": "oFdJT7tCjS1V"
      },
      "source": [
        "Creating Numpy Arrays\n",
        "-np.array()\n",
        "-np.ones()\n",
        "-np.zeroes()\n",
        "-np.ramdom.rand(5,3)\n",
        "-np.random.randint()\n",
        "-np.random.seed()"
      ]
    },
    {
      "cell_type": "markdown",
      "metadata": {
        "id": "NJ6AkUp7qDNt"
      },
      "source": [
        ""
      ]
    },
    {
      "cell_type": "code",
      "metadata": {
        "colab": {
          "base_uri": "https://localhost:8080/"
        },
        "id": "IGvuthbTiwHc",
        "outputId": "8234b628-6341-496c-9dcc-fd7bbccf0663"
      },
      "source": [
        "#Creating a simple array\n",
        "simple_array=np.array([1,2,3])\n",
        "simple_array"
      ],
      "execution_count": 14,
      "outputs": [
        {
          "output_type": "execute_result",
          "data": {
            "text/plain": [
              "array([1, 2, 3])"
            ]
          },
          "metadata": {},
          "execution_count": 14
        }
      ]
    },
    {
      "cell_type": "code",
      "metadata": {
        "colab": {
          "base_uri": "https://localhost:8080/"
        },
        "id": "7PfBmAzXkjJU",
        "outputId": "1647b14e-6830-401f-bcd0-3b6a49f02ddc"
      },
      "source": [
        "#Create an array of ones\n",
        "ones=np.ones((10,2))\n",
        "\n",
        "ones"
      ],
      "execution_count": 15,
      "outputs": [
        {
          "output_type": "execute_result",
          "data": {
            "text/plain": [
              "array([[1., 1.],\n",
              "       [1., 1.],\n",
              "       [1., 1.],\n",
              "       [1., 1.],\n",
              "       [1., 1.],\n",
              "       [1., 1.],\n",
              "       [1., 1.],\n",
              "       [1., 1.],\n",
              "       [1., 1.],\n",
              "       [1., 1.]])"
            ]
          },
          "metadata": {},
          "execution_count": 15
        }
      ]
    },
    {
      "cell_type": "code",
      "metadata": {
        "colab": {
          "base_uri": "https://localhost:8080/"
        },
        "id": "arlSQhQClOjf",
        "outputId": "86e1ea5a-ec26-4229-97e4-d6d7d95d21fe"
      },
      "source": [
        "ones.dtype"
      ],
      "execution_count": 16,
      "outputs": [
        {
          "output_type": "execute_result",
          "data": {
            "text/plain": [
              "dtype('float64')"
            ]
          },
          "metadata": {},
          "execution_count": 16
        }
      ]
    },
    {
      "cell_type": "code",
      "metadata": {
        "colab": {
          "base_uri": "https://localhost:8080/"
        },
        "id": "4sQ1A8cMlVdg",
        "outputId": "b15bbb30-1088-4790-c727-5894d1bf7054"
      },
      "source": [
        "#Change the data type with the help of .astype()\n",
        "ones.astype(int)\n"
      ],
      "execution_count": 17,
      "outputs": [
        {
          "output_type": "execute_result",
          "data": {
            "text/plain": [
              "array([[1, 1],\n",
              "       [1, 1],\n",
              "       [1, 1],\n",
              "       [1, 1],\n",
              "       [1, 1],\n",
              "       [1, 1],\n",
              "       [1, 1],\n",
              "       [1, 1],\n",
              "       [1, 1],\n",
              "       [1, 1]])"
            ]
          },
          "metadata": {},
          "execution_count": 17
        }
      ]
    },
    {
      "cell_type": "code",
      "metadata": {
        "colab": {
          "base_uri": "https://localhost:8080/"
        },
        "id": "EZ5js3GBl1VT",
        "outputId": "128bfbad-4ef1-4920-b608-af31ce966f5a"
      },
      "source": [
        "#Create an array of Zeroes\n",
        "zeros=np.zeros((5,3\n",
        "                ))\n",
        "zeros\n"
      ],
      "execution_count": 18,
      "outputs": [
        {
          "output_type": "execute_result",
          "data": {
            "text/plain": [
              "array([[0., 0., 0.],\n",
              "       [0., 0., 0.],\n",
              "       [0., 0., 0.],\n",
              "       [0., 0., 0.],\n",
              "       [0., 0., 0.]])"
            ]
          },
          "metadata": {},
          "execution_count": 18
        }
      ]
    },
    {
      "cell_type": "code",
      "metadata": {
        "colab": {
          "base_uri": "https://localhost:8080/"
        },
        "id": "uGCoM9m6mf3B",
        "outputId": "c080178f-d46b-4004-ccec-e27f04f04ae6"
      },
      "source": [
        "#Create an array with a range of values\n",
        "range_array=np.arange(0,10,2)\n",
        "range_array"
      ],
      "execution_count": 19,
      "outputs": [
        {
          "output_type": "execute_result",
          "data": {
            "text/plain": [
              "array([0, 2, 4, 6, 8])"
            ]
          },
          "metadata": {},
          "execution_count": 19
        }
      ]
    },
    {
      "cell_type": "code",
      "metadata": {
        "colab": {
          "base_uri": "https://localhost:8080/"
        },
        "id": "DQmXkk6WmzHd",
        "outputId": "0b93afc4-50f8-422d-d3ca-438d06205414"
      },
      "source": [
        "#Random Array\n",
        "random_array=np.random.randint(10,size=(5,4))\n",
        "random_array"
      ],
      "execution_count": 20,
      "outputs": [
        {
          "output_type": "execute_result",
          "data": {
            "text/plain": [
              "array([[5, 1, 1, 9],\n",
              "       [3, 7, 6, 2],\n",
              "       [8, 9, 1, 7],\n",
              "       [9, 6, 8, 4],\n",
              "       [7, 1, 9, 6]])"
            ]
          },
          "metadata": {},
          "execution_count": 20
        }
      ]
    },
    {
      "cell_type": "code",
      "metadata": {
        "colab": {
          "base_uri": "https://localhost:8080/"
        },
        "id": "SNUu-fKinsr9",
        "outputId": "f2dc2cc5-f685-4dda-f0c6-febcd5473527"
      },
      "source": [
        "#Create a random array of floats\n",
        "np.random.random((5,6))"
      ],
      "execution_count": 21,
      "outputs": [
        {
          "output_type": "execute_result",
          "data": {
            "text/plain": [
              "array([[0.50286352, 0.72235653, 0.31269352, 0.47289743, 0.74553665,\n",
              "        0.54587037],\n",
              "       [0.1977106 , 0.5396145 , 0.61908215, 0.04743114, 0.51002096,\n",
              "        0.47575889],\n",
              "       [0.61226777, 0.78587855, 0.84180277, 0.24135933, 0.13418367,\n",
              "        0.53557009],\n",
              "       [0.97471699, 0.19397894, 0.35019828, 0.89977401, 0.4608086 ,\n",
              "        0.38591663],\n",
              "       [0.78376336, 0.24229354, 0.54846836, 0.25199197, 0.62296176,\n",
              "        0.73287762]])"
            ]
          },
          "metadata": {},
          "execution_count": 21
        }
      ]
    },
    {
      "cell_type": "code",
      "metadata": {
        "colab": {
          "base_uri": "https://localhost:8080/"
        },
        "id": "YhyrunJToZ_p",
        "outputId": "99989a78-0a04-42a2-c668-d973c22eb0f6"
      },
      "source": [
        "#random seed to 0\n",
        "np.random.seed(0)\n",
        "np.random.randint(10,size=(5,3))"
      ],
      "execution_count": 22,
      "outputs": [
        {
          "output_type": "execute_result",
          "data": {
            "text/plain": [
              "array([[5, 0, 3],\n",
              "       [3, 7, 9],\n",
              "       [3, 5, 2],\n",
              "       [4, 7, 6],\n",
              "       [8, 8, 1]])"
            ]
          },
          "metadata": {},
          "execution_count": 22
        }
      ]
    },
    {
      "cell_type": "code",
      "metadata": {
        "id": "vIm6zy_3oQ0C"
      },
      "source": [
        ""
      ],
      "execution_count": 22,
      "outputs": []
    },
    {
      "cell_type": "code",
      "metadata": {
        "colab": {
          "base_uri": "https://localhost:8080/"
        },
        "id": "ZqkStUqZowJU",
        "outputId": "3cda0881-5902-4f41-e71e-d59d91ec0a5c"
      },
      "source": [
        "np.random.randint(10,size=(5,3))"
      ],
      "execution_count": 23,
      "outputs": [
        {
          "output_type": "execute_result",
          "data": {
            "text/plain": [
              "array([[6, 7, 7],\n",
              "       [8, 1, 5],\n",
              "       [9, 8, 9],\n",
              "       [4, 3, 0],\n",
              "       [3, 5, 0]])"
            ]
          },
          "metadata": {},
          "execution_count": 23
        }
      ]
    },
    {
      "cell_type": "code",
      "metadata": {
        "colab": {
          "base_uri": "https://localhost:8080/",
          "height": 265
        },
        "id": "OHXGhSiyovXY",
        "outputId": "c5c3ccb5-15a3-4962-b215-135151124e6b"
      },
      "source": [
        "np.random.seed(0)\n",
        "df=pd.DataFrame(np.random.randint(20,size=(7,5)))\n",
        "df\n"
      ],
      "execution_count": 24,
      "outputs": [
        {
          "output_type": "execute_result",
          "data": {
            "text/html": [
              "<div>\n",
              "<style scoped>\n",
              "    .dataframe tbody tr th:only-of-type {\n",
              "        vertical-align: middle;\n",
              "    }\n",
              "\n",
              "    .dataframe tbody tr th {\n",
              "        vertical-align: top;\n",
              "    }\n",
              "\n",
              "    .dataframe thead th {\n",
              "        text-align: right;\n",
              "    }\n",
              "</style>\n",
              "<table border=\"1\" class=\"dataframe\">\n",
              "  <thead>\n",
              "    <tr style=\"text-align: right;\">\n",
              "      <th></th>\n",
              "      <th>0</th>\n",
              "      <th>1</th>\n",
              "      <th>2</th>\n",
              "      <th>3</th>\n",
              "      <th>4</th>\n",
              "    </tr>\n",
              "  </thead>\n",
              "  <tbody>\n",
              "    <tr>\n",
              "      <th>0</th>\n",
              "      <td>12</td>\n",
              "      <td>15</td>\n",
              "      <td>0</td>\n",
              "      <td>3</td>\n",
              "      <td>3</td>\n",
              "    </tr>\n",
              "    <tr>\n",
              "      <th>1</th>\n",
              "      <td>7</td>\n",
              "      <td>9</td>\n",
              "      <td>19</td>\n",
              "      <td>18</td>\n",
              "      <td>4</td>\n",
              "    </tr>\n",
              "    <tr>\n",
              "      <th>2</th>\n",
              "      <td>6</td>\n",
              "      <td>12</td>\n",
              "      <td>1</td>\n",
              "      <td>6</td>\n",
              "      <td>7</td>\n",
              "    </tr>\n",
              "    <tr>\n",
              "      <th>3</th>\n",
              "      <td>14</td>\n",
              "      <td>17</td>\n",
              "      <td>5</td>\n",
              "      <td>13</td>\n",
              "      <td>8</td>\n",
              "    </tr>\n",
              "    <tr>\n",
              "      <th>4</th>\n",
              "      <td>9</td>\n",
              "      <td>19</td>\n",
              "      <td>16</td>\n",
              "      <td>19</td>\n",
              "      <td>5</td>\n",
              "    </tr>\n",
              "    <tr>\n",
              "      <th>5</th>\n",
              "      <td>15</td>\n",
              "      <td>15</td>\n",
              "      <td>0</td>\n",
              "      <td>18</td>\n",
              "      <td>3</td>\n",
              "    </tr>\n",
              "    <tr>\n",
              "      <th>6</th>\n",
              "      <td>17</td>\n",
              "      <td>19</td>\n",
              "      <td>19</td>\n",
              "      <td>19</td>\n",
              "      <td>14</td>\n",
              "    </tr>\n",
              "  </tbody>\n",
              "</table>\n",
              "</div>"
            ],
            "text/plain": [
              "    0   1   2   3   4\n",
              "0  12  15   0   3   3\n",
              "1   7   9  19  18   4\n",
              "2   6  12   1   6   7\n",
              "3  14  17   5  13   8\n",
              "4   9  19  16  19   5\n",
              "5  15  15   0  18   3\n",
              "6  17  19  19  19  14"
            ]
          },
          "metadata": {},
          "execution_count": 24
        }
      ]
    },
    {
      "cell_type": "code",
      "metadata": {
        "colab": {
          "base_uri": "https://localhost:8080/",
          "height": 265
        },
        "id": "ituAbQKWpgMu",
        "outputId": "18f7a543-db28-4c69-edaf-47c2237acac7"
      },
      "source": [
        "np.random.seed(2)\n",
        "df=pd.DataFrame(np.random.randint(20,size=(7,5)))\n",
        "df\n"
      ],
      "execution_count": 25,
      "outputs": [
        {
          "output_type": "execute_result",
          "data": {
            "text/html": [
              "<div>\n",
              "<style scoped>\n",
              "    .dataframe tbody tr th:only-of-type {\n",
              "        vertical-align: middle;\n",
              "    }\n",
              "\n",
              "    .dataframe tbody tr th {\n",
              "        vertical-align: top;\n",
              "    }\n",
              "\n",
              "    .dataframe thead th {\n",
              "        text-align: right;\n",
              "    }\n",
              "</style>\n",
              "<table border=\"1\" class=\"dataframe\">\n",
              "  <thead>\n",
              "    <tr style=\"text-align: right;\">\n",
              "      <th></th>\n",
              "      <th>0</th>\n",
              "      <th>1</th>\n",
              "      <th>2</th>\n",
              "      <th>3</th>\n",
              "      <th>4</th>\n",
              "    </tr>\n",
              "  </thead>\n",
              "  <tbody>\n",
              "    <tr>\n",
              "      <th>0</th>\n",
              "      <td>8</td>\n",
              "      <td>15</td>\n",
              "      <td>13</td>\n",
              "      <td>8</td>\n",
              "      <td>11</td>\n",
              "    </tr>\n",
              "    <tr>\n",
              "      <th>1</th>\n",
              "      <td>18</td>\n",
              "      <td>11</td>\n",
              "      <td>8</td>\n",
              "      <td>7</td>\n",
              "      <td>2</td>\n",
              "    </tr>\n",
              "    <tr>\n",
              "      <th>2</th>\n",
              "      <td>17</td>\n",
              "      <td>11</td>\n",
              "      <td>15</td>\n",
              "      <td>5</td>\n",
              "      <td>7</td>\n",
              "    </tr>\n",
              "    <tr>\n",
              "      <th>3</th>\n",
              "      <td>3</td>\n",
              "      <td>6</td>\n",
              "      <td>4</td>\n",
              "      <td>10</td>\n",
              "      <td>11</td>\n",
              "    </tr>\n",
              "    <tr>\n",
              "      <th>4</th>\n",
              "      <td>19</td>\n",
              "      <td>7</td>\n",
              "      <td>6</td>\n",
              "      <td>10</td>\n",
              "      <td>1</td>\n",
              "    </tr>\n",
              "    <tr>\n",
              "      <th>5</th>\n",
              "      <td>3</td>\n",
              "      <td>5</td>\n",
              "      <td>4</td>\n",
              "      <td>14</td>\n",
              "      <td>6</td>\n",
              "    </tr>\n",
              "    <tr>\n",
              "      <th>6</th>\n",
              "      <td>19</td>\n",
              "      <td>2</td>\n",
              "      <td>16</td>\n",
              "      <td>14</td>\n",
              "      <td>12</td>\n",
              "    </tr>\n",
              "  </tbody>\n",
              "</table>\n",
              "</div>"
            ],
            "text/plain": [
              "    0   1   2   3   4\n",
              "0   8  15  13   8  11\n",
              "1  18  11   8   7   2\n",
              "2  17  11  15   5   7\n",
              "3   3   6   4  10  11\n",
              "4  19   7   6  10   1\n",
              "5   3   5   4  14   6\n",
              "6  19   2  16  14  12"
            ]
          },
          "metadata": {},
          "execution_count": 25
        }
      ]
    },
    {
      "cell_type": "markdown",
      "metadata": {
        "id": "J_3nTe5bqEDR"
      },
      "source": [
        "vIEWING aRRAYS AND mATRICES"
      ]
    },
    {
      "cell_type": "code",
      "metadata": {
        "colab": {
          "base_uri": "https://localhost:8080/"
        },
        "id": "rdhPvU_RqIxB",
        "outputId": "5d597734-d972-4a3e-fd06-f0dee7a3156b"
      },
      "source": [
        "a1"
      ],
      "execution_count": 26,
      "outputs": [
        {
          "output_type": "execute_result",
          "data": {
            "text/plain": [
              "array([1, 2, 3])"
            ]
          },
          "metadata": {},
          "execution_count": 26
        }
      ]
    },
    {
      "cell_type": "code",
      "metadata": {
        "colab": {
          "base_uri": "https://localhost:8080/"
        },
        "id": "cieOJNYUqLOm",
        "outputId": "3dd3172d-1b41-40d0-d185-89b44a980776"
      },
      "source": [
        "a2"
      ],
      "execution_count": 27,
      "outputs": [
        {
          "output_type": "execute_result",
          "data": {
            "text/plain": [
              "array([[1. , 2. , 3.3],\n",
              "       [4. , 5. , 6.5]])"
            ]
          },
          "metadata": {},
          "execution_count": 27
        }
      ]
    },
    {
      "cell_type": "code",
      "metadata": {
        "colab": {
          "base_uri": "https://localhost:8080/"
        },
        "id": "kaQPb6KlqMxF",
        "outputId": "9be48f84-cd07-4c2d-bb6b-2045adbce168"
      },
      "source": [
        "a3"
      ],
      "execution_count": 28,
      "outputs": [
        {
          "output_type": "execute_result",
          "data": {
            "text/plain": [
              "array([[[ 1,  2,  3],\n",
              "        [ 4,  5,  6],\n",
              "        [ 7,  8,  9]],\n",
              "\n",
              "       [[10, 11, 12],\n",
              "        [13, 14, 15],\n",
              "        [16, 17, 18]]])"
            ]
          },
          "metadata": {},
          "execution_count": 28
        }
      ]
    },
    {
      "cell_type": "code",
      "metadata": {
        "colab": {
          "base_uri": "https://localhost:8080/"
        },
        "id": "Ny0-ubcdqPmZ",
        "outputId": "62130e9d-917b-4116-a410-9b417b7dab31"
      },
      "source": [
        "a1[0]"
      ],
      "execution_count": 29,
      "outputs": [
        {
          "output_type": "execute_result",
          "data": {
            "text/plain": [
              "1"
            ]
          },
          "metadata": {},
          "execution_count": 29
        }
      ]
    },
    {
      "cell_type": "code",
      "metadata": {
        "colab": {
          "base_uri": "https://localhost:8080/"
        },
        "id": "pqLS__qQqWkJ",
        "outputId": "1165c212-da48-4e94-d972-f50457fc7814"
      },
      "source": [
        "a2[0]"
      ],
      "execution_count": 30,
      "outputs": [
        {
          "output_type": "execute_result",
          "data": {
            "text/plain": [
              "array([1. , 2. , 3.3])"
            ]
          },
          "metadata": {},
          "execution_count": 30
        }
      ]
    },
    {
      "cell_type": "code",
      "metadata": {
        "colab": {
          "base_uri": "https://localhost:8080/"
        },
        "id": "nU9M84wlqb19",
        "outputId": "40818ef9-5110-4bf1-c38d-622e9c3f60b3"
      },
      "source": [
        "a3[0]"
      ],
      "execution_count": 31,
      "outputs": [
        {
          "output_type": "execute_result",
          "data": {
            "text/plain": [
              "array([[1, 2, 3],\n",
              "       [4, 5, 6],\n",
              "       [7, 8, 9]])"
            ]
          },
          "metadata": {},
          "execution_count": 31
        }
      ]
    },
    {
      "cell_type": "code",
      "metadata": {
        "colab": {
          "base_uri": "https://localhost:8080/"
        },
        "id": "KUEdU_VfqqOv",
        "outputId": "ab0592b8-593d-4b0f-a68f-40142622ce7a"
      },
      "source": [
        "a4=np.random.randint(10,size=(2,3,4,5))\n",
        "a4"
      ],
      "execution_count": 32,
      "outputs": [
        {
          "output_type": "execute_result",
          "data": {
            "text/plain": [
              "array([[[[2, 4, 1, 7, 8],\n",
              "         [2, 9, 8, 7, 1],\n",
              "         [6, 8, 5, 9, 9],\n",
              "         [9, 3, 0, 0, 2]],\n",
              "\n",
              "        [[8, 8, 2, 9, 6],\n",
              "         [5, 6, 6, 6, 3],\n",
              "         [8, 2, 1, 4, 8],\n",
              "         [1, 6, 9, 5, 1]],\n",
              "\n",
              "        [[2, 4, 7, 6, 4],\n",
              "         [5, 8, 3, 0, 0],\n",
              "         [5, 7, 5, 0, 8],\n",
              "         [6, 5, 1, 7, 4]]],\n",
              "\n",
              "\n",
              "       [[[3, 6, 1, 4, 0],\n",
              "         [8, 5, 4, 2, 9],\n",
              "         [7, 1, 9, 2, 1],\n",
              "         [0, 7, 1, 8, 9]],\n",
              "\n",
              "        [[0, 7, 0, 5, 2],\n",
              "         [5, 1, 3, 3, 1],\n",
              "         [8, 6, 8, 1, 5],\n",
              "         [7, 0, 9, 1, 5]],\n",
              "\n",
              "        [[9, 2, 0, 0, 4],\n",
              "         [6, 3, 1, 8, 5],\n",
              "         [9, 5, 4, 2, 7],\n",
              "         [8, 7, 3, 4, 8]]]])"
            ]
          },
          "metadata": {},
          "execution_count": 32
        }
      ]
    },
    {
      "cell_type": "code",
      "metadata": {
        "colab": {
          "base_uri": "https://localhost:8080/"
        },
        "id": "905eKCj3rCSo",
        "outputId": "618320bf-3789-42c8-f68e-3d9b6a8cab0f"
      },
      "source": [
        "a4[:1,:,:,:4]"
      ],
      "execution_count": 33,
      "outputs": [
        {
          "output_type": "execute_result",
          "data": {
            "text/plain": [
              "array([[[[2, 4, 1, 7],\n",
              "         [2, 9, 8, 7],\n",
              "         [6, 8, 5, 9],\n",
              "         [9, 3, 0, 0]],\n",
              "\n",
              "        [[8, 8, 2, 9],\n",
              "         [5, 6, 6, 6],\n",
              "         [8, 2, 1, 4],\n",
              "         [1, 6, 9, 5]],\n",
              "\n",
              "        [[2, 4, 7, 6],\n",
              "         [5, 8, 3, 0],\n",
              "         [5, 7, 5, 0],\n",
              "         [6, 5, 1, 7]]]])"
            ]
          },
          "metadata": {},
          "execution_count": 33
        }
      ]
    },
    {
      "cell_type": "markdown",
      "metadata": {
        "id": "GCYCLaBZsacR"
      },
      "source": [
        "#Manipulating Arrays"
      ]
    },
    {
      "cell_type": "code",
      "metadata": {
        "id": "3q1StjXKsdWz"
      },
      "source": [
        "#Arithmatic\n",
        "# -+,-,*,/,//\n",
        "# -np.exp()\n",
        "# -np.log()\n",
        "# -np.dot()\n",
        "# -Broadcasting"
      ],
      "execution_count": 34,
      "outputs": []
    },
    {
      "cell_type": "code",
      "metadata": {
        "colab": {
          "base_uri": "https://localhost:8080/"
        },
        "id": "dTwqsjrqs9qy",
        "outputId": "edddb4c7-7dfd-492b-cda8-f9760882cd5e"
      },
      "source": [
        "a1"
      ],
      "execution_count": 35,
      "outputs": [
        {
          "output_type": "execute_result",
          "data": {
            "text/plain": [
              "array([1, 2, 3])"
            ]
          },
          "metadata": {},
          "execution_count": 35
        }
      ]
    },
    {
      "cell_type": "code",
      "metadata": {
        "colab": {
          "base_uri": "https://localhost:8080/"
        },
        "id": "nRx1FlTmtBBW",
        "outputId": "7fbfd4cf-1c2a-411f-ea3f-5454cd061ca9"
      },
      "source": [
        "ones=np.ones(3)\n",
        "ones"
      ],
      "execution_count": 36,
      "outputs": [
        {
          "output_type": "execute_result",
          "data": {
            "text/plain": [
              "array([1., 1., 1.])"
            ]
          },
          "metadata": {},
          "execution_count": 36
        }
      ]
    },
    {
      "cell_type": "code",
      "metadata": {
        "colab": {
          "base_uri": "https://localhost:8080/"
        },
        "id": "tcvBV3sztLSb",
        "outputId": "b2189839-ffd4-47cd-8d9c-ff8d42d26a38"
      },
      "source": [
        "a1+ones"
      ],
      "execution_count": 37,
      "outputs": [
        {
          "output_type": "execute_result",
          "data": {
            "text/plain": [
              "array([2., 3., 4.])"
            ]
          },
          "metadata": {},
          "execution_count": 37
        }
      ]
    },
    {
      "cell_type": "code",
      "metadata": {
        "colab": {
          "base_uri": "https://localhost:8080/"
        },
        "id": "AADyA-19wj6d",
        "outputId": "464a5fda-4907-4a4b-f953-d49bfb4283a3"
      },
      "source": [
        "a1*ones"
      ],
      "execution_count": 38,
      "outputs": [
        {
          "output_type": "execute_result",
          "data": {
            "text/plain": [
              "array([1., 2., 3.])"
            ]
          },
          "metadata": {},
          "execution_count": 38
        }
      ]
    },
    {
      "cell_type": "code",
      "metadata": {
        "colab": {
          "base_uri": "https://localhost:8080/"
        },
        "id": "Rx5FJN8Jwmox",
        "outputId": "ea14978d-de67-4707-e6bd-a888c45799b0"
      },
      "source": [
        "a1/ones"
      ],
      "execution_count": 39,
      "outputs": [
        {
          "output_type": "execute_result",
          "data": {
            "text/plain": [
              "array([1., 2., 3.])"
            ]
          },
          "metadata": {},
          "execution_count": 39
        }
      ]
    },
    {
      "cell_type": "code",
      "metadata": {
        "colab": {
          "base_uri": "https://localhost:8080/"
        },
        "id": "3ln3En-iws37",
        "outputId": "f879cc31-93c2-40b5-a281-758b178330b3"
      },
      "source": [
        "a1"
      ],
      "execution_count": 40,
      "outputs": [
        {
          "output_type": "execute_result",
          "data": {
            "text/plain": [
              "array([1, 2, 3])"
            ]
          },
          "metadata": {},
          "execution_count": 40
        }
      ]
    },
    {
      "cell_type": "code",
      "metadata": {
        "colab": {
          "base_uri": "https://localhost:8080/"
        },
        "id": "qKZTVQSAww6D",
        "outputId": "8f119263-0e57-4532-ba00-b9b715c38fed"
      },
      "source": [
        "a1**2"
      ],
      "execution_count": 41,
      "outputs": [
        {
          "output_type": "execute_result",
          "data": {
            "text/plain": [
              "array([1, 4, 9])"
            ]
          },
          "metadata": {},
          "execution_count": 41
        }
      ]
    },
    {
      "cell_type": "code",
      "metadata": {
        "colab": {
          "base_uri": "https://localhost:8080/"
        },
        "id": "cvX50uWWw7vf",
        "outputId": "189b5b88-a437-4fab-ecba-a699b802dd51"
      },
      "source": [
        "np.exp(a1)"
      ],
      "execution_count": 42,
      "outputs": [
        {
          "output_type": "execute_result",
          "data": {
            "text/plain": [
              "array([ 2.71828183,  7.3890561 , 20.08553692])"
            ]
          },
          "metadata": {},
          "execution_count": 42
        }
      ]
    },
    {
      "cell_type": "code",
      "metadata": {
        "colab": {
          "base_uri": "https://localhost:8080/"
        },
        "id": "LRacX5KjxFZP",
        "outputId": "dec3612d-daba-484a-c6dc-4c7cf66689dd"
      },
      "source": [
        "#Aggregation\n",
        "sum(a1)"
      ],
      "execution_count": 43,
      "outputs": [
        {
          "output_type": "execute_result",
          "data": {
            "text/plain": [
              "6"
            ]
          },
          "metadata": {},
          "execution_count": 43
        }
      ]
    },
    {
      "cell_type": "code",
      "metadata": {
        "colab": {
          "base_uri": "https://localhost:8080/"
        },
        "id": "zHd8nuqPxXsd",
        "outputId": "e64b4710-13dc-44cf-f03f-642d2aef4b3b"
      },
      "source": [
        "np.sum(a1)"
      ],
      "execution_count": 44,
      "outputs": [
        {
          "output_type": "execute_result",
          "data": {
            "text/plain": [
              "6"
            ]
          },
          "metadata": {},
          "execution_count": 44
        }
      ]
    },
    {
      "cell_type": "code",
      "metadata": {
        "colab": {
          "base_uri": "https://localhost:8080/"
        },
        "id": "QGHKOfn1xdHG",
        "outputId": "fde8e671-46e8-436b-d434-9330ed1e868d"
      },
      "source": [
        "massive_array=np.random.random(100000)\n",
        "massive_array"
      ],
      "execution_count": 45,
      "outputs": [
        {
          "output_type": "execute_result",
          "data": {
            "text/plain": [
              "array([1.23587469e-04, 9.28962625e-02, 1.75116384e-01, ...,\n",
              "       8.10541903e-01, 7.28417699e-02, 7.65661598e-01])"
            ]
          },
          "metadata": {},
          "execution_count": 45
        }
      ]
    },
    {
      "cell_type": "code",
      "metadata": {
        "colab": {
          "base_uri": "https://localhost:8080/"
        },
        "id": "wJzdYdgPyEWj",
        "outputId": "848be0f6-b22a-4254-8f10-392e78091ac5"
      },
      "source": [
        "%timeit sum(massive_array)\n",
        "%timeit np.sum(massive_array)"
      ],
      "execution_count": 46,
      "outputs": [
        {
          "output_type": "stream",
          "text": [
            "100 loops, best of 5: 17.5 ms per loop\n",
            "The slowest run took 34.77 times longer than the fastest. This could mean that an intermediate result is being cached.\n",
            "10000 loops, best of 5: 38.6 µs per loop\n"
          ],
          "name": "stdout"
        }
      ]
    },
    {
      "cell_type": "code",
      "metadata": {
        "colab": {
          "base_uri": "https://localhost:8080/"
        },
        "id": "jXlEvl3F99Tc",
        "outputId": "b2e27dba-2b91-48bb-9c88-a346f0b46cbc"
      },
      "source": [
        "a2"
      ],
      "execution_count": 47,
      "outputs": [
        {
          "output_type": "execute_result",
          "data": {
            "text/plain": [
              "array([[1. , 2. , 3.3],\n",
              "       [4. , 5. , 6.5]])"
            ]
          },
          "metadata": {},
          "execution_count": 47
        }
      ]
    },
    {
      "cell_type": "code",
      "metadata": {
        "colab": {
          "base_uri": "https://localhost:8080/"
        },
        "id": "VoELPbrs-CIH",
        "outputId": "62a850a0-cbfc-46bb-ac81-dcdf8afc8dd4"
      },
      "source": [
        "#Find The Mean\n",
        "np.mean(a2)"
      ],
      "execution_count": 48,
      "outputs": [
        {
          "output_type": "execute_result",
          "data": {
            "text/plain": [
              "3.6333333333333333"
            ]
          },
          "metadata": {},
          "execution_count": 48
        }
      ]
    },
    {
      "cell_type": "code",
      "metadata": {
        "colab": {
          "base_uri": "https://localhost:8080/"
        },
        "id": "3kWWzLFt-KDj",
        "outputId": "ea33d07c-841d-4f77-e4b7-ffd10eba247a"
      },
      "source": [
        "np.max(a2)"
      ],
      "execution_count": 49,
      "outputs": [
        {
          "output_type": "execute_result",
          "data": {
            "text/plain": [
              "6.5"
            ]
          },
          "metadata": {},
          "execution_count": 49
        }
      ]
    },
    {
      "cell_type": "code",
      "metadata": {
        "colab": {
          "base_uri": "https://localhost:8080/"
        },
        "id": "PlKXUvOA-lzi",
        "outputId": "351a036a-dd60-4399-fa77-57787472bcb8"
      },
      "source": [
        "#STANDARD Deviation\n",
        "np.std(a2)"
      ],
      "execution_count": 50,
      "outputs": [
        {
          "output_type": "execute_result",
          "data": {
            "text/plain": [
              "1.8226964152656422"
            ]
          },
          "metadata": {},
          "execution_count": 50
        }
      ]
    },
    {
      "cell_type": "code",
      "metadata": {
        "colab": {
          "base_uri": "https://localhost:8080/"
        },
        "id": "i7J_m-WE-vcE",
        "outputId": "f316b641-5b61-49b5-d7ab-c52a586d2c8d"
      },
      "source": [
        "#Variance\n",
        "p=np.var(a2)\n",
        "p"
      ],
      "execution_count": 53,
      "outputs": [
        {
          "output_type": "execute_result",
          "data": {
            "text/plain": [
              "3.3222222222222224"
            ]
          },
          "metadata": {},
          "execution_count": 53
        }
      ]
    },
    {
      "cell_type": "code",
      "metadata": {
        "colab": {
          "base_uri": "https://localhost:8080/"
        },
        "id": "I56JdLV3-77Q",
        "outputId": "43c79a0c-9296-4c65-b8fc-03c7f716a2dc"
      },
      "source": [
        "np.sqrt(p)"
      ],
      "execution_count": 54,
      "outputs": [
        {
          "output_type": "execute_result",
          "data": {
            "text/plain": [
              "1.8226964152656422"
            ]
          },
          "metadata": {},
          "execution_count": 54
        }
      ]
    },
    {
      "cell_type": "code",
      "metadata": {
        "colab": {
          "base_uri": "https://localhost:8080/",
          "height": 265
        },
        "id": "DegOZoQ0_ZMb",
        "outputId": "15f10186-c9fd-4381-c49b-6c3e0481685d"
      },
      "source": [
        "import matplotlib.pyplot as plt\n",
        "plt.hist(a2)\n",
        "\n",
        "plt.show()"
      ],
      "execution_count": 56,
      "outputs": [
        {
          "output_type": "display_data",
          "data": {
            "image/png": "[encoded data removed]",
            "text/plain": [
              "<Figure size 432x288 with 1 Axes>"
            ]
          },
          "metadata": {
            "needs_background": "light"
          }
        }
      ]
    },
    {
      "cell_type": "code",
      "metadata": {
        "colab": {
          "base_uri": "https://localhost:8080/"
        },
        "id": "3Fvof6Fn_0b4",
        "outputId": "a9b753b1-6436-4562-9224-a1d408937f6b"
      },
      "source": [
        "a2"
      ],
      "execution_count": 57,
      "outputs": [
        {
          "output_type": "execute_result",
          "data": {
            "text/plain": [
              "array([[1. , 2. , 3.3],\n",
              "       [4. , 5. , 6.5]])"
            ]
          },
          "metadata": {},
          "execution_count": 57
        }
      ]
    },
    {
      "cell_type": "code",
      "metadata": {
        "colab": {
          "base_uri": "https://localhost:8080/"
        },
        "id": "cSSICmCZ_5aw",
        "outputId": "4fffcceb-b4eb-4ad4-c1e1-8599d0e85a75"
      },
      "source": [
        "#Reshapping\n",
        "a2"
      ],
      "execution_count": 58,
      "outputs": [
        {
          "output_type": "execute_result",
          "data": {
            "text/plain": [
              "array([[1. , 2. , 3.3],\n",
              "       [4. , 5. , 6.5]])"
            ]
          },
          "metadata": {},
          "execution_count": 58
        }
      ]
    },
    {
      "cell_type": "code",
      "metadata": {
        "colab": {
          "base_uri": "https://localhost:8080/"
        },
        "id": "TCXsfhdHADeV",
        "outputId": "f3a4095f-fbbb-40d3-a566-0ea2527699e9"
      },
      "source": [
        "a2.shape"
      ],
      "execution_count": 59,
      "outputs": [
        {
          "output_type": "execute_result",
          "data": {
            "text/plain": [
              "(2, 3)"
            ]
          },
          "metadata": {},
          "execution_count": 59
        }
      ]
    },
    {
      "cell_type": "code",
      "metadata": {
        "colab": {
          "base_uri": "https://localhost:8080/"
        },
        "id": "10ihD127AWQy",
        "outputId": "ad211079-e838-4bb9-a212-17c96e11959f"
      },
      "source": [
        "a2.reshape(2,3,1)"
      ],
      "execution_count": 61,
      "outputs": [
        {
          "output_type": "execute_result",
          "data": {
            "text/plain": [
              "array([[[1. ],\n",
              "        [2. ],\n",
              "        [3.3]],\n",
              "\n",
              "       [[4. ],\n",
              "        [5. ],\n",
              "        [6.5]]])"
            ]
          },
          "metadata": {},
          "execution_count": 61
        }
      ]
    },
    {
      "cell_type": "code",
      "metadata": {
        "colab": {
          "base_uri": "https://localhost:8080/"
        },
        "id": "Yy7_5OJjAHsV",
        "outputId": "6fcf97d4-ab35-4673-b984-69bcc1cb7ed5"
      },
      "source": [
        "a2.reshape(2,3,1)+a3"
      ],
      "execution_count": 63,
      "outputs": [
        {
          "output_type": "execute_result",
          "data": {
            "text/plain": [
              "array([[[ 2. ,  3. ,  4. ],\n",
              "        [ 6. ,  7. ,  8. ],\n",
              "        [10.3, 11.3, 12.3]],\n",
              "\n",
              "       [[14. , 15. , 16. ],\n",
              "        [18. , 19. , 20. ],\n",
              "        [22.5, 23.5, 24.5]]])"
            ]
          },
          "metadata": {},
          "execution_count": 63
        }
      ]
    },
    {
      "cell_type": "code",
      "metadata": {
        "colab": {
          "base_uri": "https://localhost:8080/"
        },
        "id": "WlK8xywhApxY",
        "outputId": "fc576717-d30a-47a1-f8d1-87053d859915"
      },
      "source": [
        "#Transpose\n",
        "a2.shape"
      ],
      "execution_count": 64,
      "outputs": [
        {
          "output_type": "execute_result",
          "data": {
            "text/plain": [
              "(2, 3)"
            ]
          },
          "metadata": {},
          "execution_count": 64
        }
      ]
    },
    {
      "cell_type": "code",
      "metadata": {
        "colab": {
          "base_uri": "https://localhost:8080/"
        },
        "id": "tgcvkMQVA7UC",
        "outputId": "4ae6fc62-7177-4a84-a773-d112aca89e6a"
      },
      "source": [
        "a2.T"
      ],
      "execution_count": 65,
      "outputs": [
        {
          "output_type": "execute_result",
          "data": {
            "text/plain": [
              "array([[1. , 4. ],\n",
              "       [2. , 5. ],\n",
              "       [3.3, 6.5]])"
            ]
          },
          "metadata": {},
          "execution_count": 65
        }
      ]
    },
    {
      "cell_type": "code",
      "metadata": {
        "colab": {
          "base_uri": "https://localhost:8080/"
        },
        "id": "A0hXlXvcA-2u",
        "outputId": "31410b4a-1764-47a0-d426-2eac5f0dca80"
      },
      "source": [
        "a2.T.shape"
      ],
      "execution_count": 66,
      "outputs": [
        {
          "output_type": "execute_result",
          "data": {
            "text/plain": [
              "(3, 2)"
            ]
          },
          "metadata": {},
          "execution_count": 66
        }
      ]
    },
    {
      "cell_type": "code",
      "metadata": {
        "colab": {
          "base_uri": "https://localhost:8080/"
        },
        "id": "tNS0mIgXBNJd",
        "outputId": "176e1f63-7110-499e-e796-67d2a30f4edb"
      },
      "source": [
        "matrix=np.random.random(size=(5,3,3))\n",
        "matrix"
      ],
      "execution_count": 67,
      "outputs": [
        {
          "output_type": "execute_result",
          "data": {
            "text/plain": [
              "array([[[0.2281241 , 0.91564599, 0.72326712],\n",
              "        [0.24054527, 0.67033653, 0.9223501 ],\n",
              "        [0.1077218 , 0.14944732, 0.7956011 ]],\n",
              "\n",
              "       [[0.90441016, 0.6255032 , 0.04734019],\n",
              "        [0.44469655, 0.04384215, 0.27431575],\n",
              "        [0.0873402 , 0.5927684 , 0.12349547]],\n",
              "\n",
              "       [[0.15137087, 0.35261971, 0.40132123],\n",
              "        [0.95507437, 0.37509241, 0.34660269],\n",
              "        [0.16705709, 0.93605651, 0.63415137]],\n",
              "\n",
              "       [[0.23939251, 0.23723815, 0.8473708 ],\n",
              "        [0.92447024, 0.23824236, 0.4098903 ],\n",
              "        [0.29523494, 0.33380408, 0.1104866 ]],\n",
              "\n",
              "       [[0.89518547, 0.27436129, 0.71643556],\n",
              "        [0.49061636, 0.31267459, 0.90794798],\n",
              "        [0.45648822, 0.83348335, 0.48897938]]])"
            ]
          },
          "metadata": {},
          "execution_count": 67
        }
      ]
    },
    {
      "cell_type": "code",
      "metadata": {
        "colab": {
          "base_uri": "https://localhost:8080/"
        },
        "id": "IgjEiEVKBWYu",
        "outputId": "aebbae17-ec70-4292-c28e-a38e351449cf"
      },
      "source": [
        "matrix.shape"
      ],
      "execution_count": 68,
      "outputs": [
        {
          "output_type": "execute_result",
          "data": {
            "text/plain": [
              "(5, 3, 3)"
            ]
          },
          "metadata": {},
          "execution_count": 68
        }
      ]
    },
    {
      "cell_type": "code",
      "metadata": {
        "colab": {
          "base_uri": "https://localhost:8080/"
        },
        "id": "h_7ry_koBbY2",
        "outputId": "98c40a0f-3dfe-4aa2-e35b-753a192088c4"
      },
      "source": [
        "matrix.T\n"
      ],
      "execution_count": 70,
      "outputs": [
        {
          "output_type": "execute_result",
          "data": {
            "text/plain": [
              "array([[[0.2281241 , 0.90441016, 0.15137087, 0.23939251, 0.89518547],\n",
              "        [0.24054527, 0.44469655, 0.95507437, 0.92447024, 0.49061636],\n",
              "        [0.1077218 , 0.0873402 , 0.16705709, 0.29523494, 0.45648822]],\n",
              "\n",
              "       [[0.91564599, 0.6255032 , 0.35261971, 0.23723815, 0.27436129],\n",
              "        [0.67033653, 0.04384215, 0.37509241, 0.23824236, 0.31267459],\n",
              "        [0.14944732, 0.5927684 , 0.93605651, 0.33380408, 0.83348335]],\n",
              "\n",
              "       [[0.72326712, 0.04734019, 0.40132123, 0.8473708 , 0.71643556],\n",
              "        [0.9223501 , 0.27431575, 0.34660269, 0.4098903 , 0.90794798],\n",
              "        [0.7956011 , 0.12349547, 0.63415137, 0.1104866 , 0.48897938]]])"
            ]
          },
          "metadata": {},
          "execution_count": 70
        }
      ]
    },
    {
      "cell_type": "code",
      "metadata": {
        "colab": {
          "base_uri": "https://localhost:8080/"
        },
        "id": "li0cq6BsBnVI",
        "outputId": "dd95007f-d130-4ee3-ec5b-6bf1cd46fec4"
      },
      "source": [
        "matrix.T.shape"
      ],
      "execution_count": 71,
      "outputs": [
        {
          "output_type": "execute_result",
          "data": {
            "text/plain": [
              "(3, 3, 5)"
            ]
          },
          "metadata": {},
          "execution_count": 71
        }
      ]
    },
    {
      "cell_type": "code",
      "metadata": {
        "id": "wLmR-gVeBs4h"
      },
      "source": [
        "#DOT \n",
        "np.random.seed(0)\n",
        "mat1=np.random.randint(10,size=(3,3))\n",
        "mat2=np.random.randint(10,size=(3,2))\n"
      ],
      "execution_count": 72,
      "outputs": []
    },
    {
      "cell_type": "code",
      "metadata": {
        "colab": {
          "base_uri": "https://localhost:8080/"
        },
        "id": "HMXbiInoCgeu",
        "outputId": "51356283-4726-4e5a-c3d7-6937372f0b16"
      },
      "source": [
        "mat1,mat2"
      ],
      "execution_count": 73,
      "outputs": [
        {
          "output_type": "execute_result",
          "data": {
            "text/plain": [
              "(array([[5, 0, 3],\n",
              "        [3, 7, 9],\n",
              "        [3, 5, 2]]), array([[4, 7],\n",
              "        [6, 8],\n",
              "        [8, 1]]))"
            ]
          },
          "metadata": {},
          "execution_count": 73
        }
      ]
    },
    {
      "cell_type": "code",
      "metadata": {
        "colab": {
          "base_uri": "https://localhost:8080/"
        },
        "id": "Avwhz_viCk4e",
        "outputId": "421cbe03-3dcd-4c8c-d99c-58255cd13c51"
      },
      "source": [
        "np.dot(mat1,mat2)"
      ],
      "execution_count": 74,
      "outputs": [
        {
          "output_type": "execute_result",
          "data": {
            "text/plain": [
              "array([[ 44,  38],\n",
              "       [126,  86],\n",
              "       [ 58,  63]])"
            ]
          },
          "metadata": {},
          "execution_count": 74
        }
      ]
    },
    {
      "cell_type": "code",
      "metadata": {
        "colab": {
          "base_uri": "https://localhost:8080/",
          "height": 162
        },
        "id": "eiF3-8bwCvYP",
        "outputId": "3bc3a520-4bd6-495d-d2fc-66f01b71d97d"
      },
      "source": [
        "mat1*mat2#Element wise Multiplication"
      ],
      "execution_count": 76,
      "outputs": [
        {
          "output_type": "error",
          "ename": "ValueError",
          "evalue": "ignored",
          "traceback": [
            "\u001b[0;31m---------------------------------------------------------------------------\u001b[0m",
            "\u001b[0;31mValueError\u001b[0m                                Traceback (most recent call last)",
            "\u001b[0;32m<ipython-input-76-f2c6f9d04f62>\u001b[0m in \u001b[0;36m<module>\u001b[0;34m()\u001b[0m\n\u001b[0;32m----> 1\u001b[0;31m \u001b[0mmat1\u001b[0m\u001b[0;34m*\u001b[0m\u001b[0mmat2\u001b[0m\u001b[0;34m\u001b[0m\u001b[0;34m\u001b[0m\u001b[0m\n\u001b[0m",
            "\u001b[0;31mValueError\u001b[0m: operands could not be broadcast together with shapes (3,3) (3,2) "
          ]
        }
      ]
    },
    {
      "cell_type": "code",
      "metadata": {
        "colab": {
          "base_uri": "https://localhost:8080/"
        },
        "id": "XfjMM8F3DDIo",
        "outputId": "6697a84f-3716-4bdf-b979-168d95ef72f4"
      },
      "source": [
        "#DOT Product Practical Example\n",
        "np.random.seed(0)\n",
        "sales=np.random.randint(20,size=(5,3))\n",
        "sales\n"
      ],
      "execution_count": 77,
      "outputs": [
        {
          "output_type": "execute_result",
          "data": {
            "text/plain": [
              "array([[12, 15,  0],\n",
              "       [ 3,  3,  7],\n",
              "       [ 9, 19, 18],\n",
              "       [ 4,  6, 12],\n",
              "       [ 1,  6,  7]])"
            ]
          },
          "metadata": {},
          "execution_count": 77
        }
      ]
    },
    {
      "cell_type": "code",
      "metadata": {
        "colab": {
          "base_uri": "https://localhost:8080/",
          "height": 203
        },
        "id": "lDWLjHqhDVSA",
        "outputId": "6259e34c-5b77-4686-fe85-b564cb512a5d"
      },
      "source": [
        "week_sales=pd.DataFrame(sales,\n",
        "                        index=['a','b',\"c\",\"d\",\"f\"],\n",
        "                        columns=['Domestic',\"International\",\"B2B\"])\n",
        "week_sales"
      ],
      "execution_count": 79,
      "outputs": [
        {
          "output_type": "execute_result",
          "data": {
            "text/html": [
              "<div>\n",
              "<style scoped>\n",
              "    .dataframe tbody tr th:only-of-type {\n",
              "        vertical-align: middle;\n",
              "    }\n",
              "\n",
              "    .dataframe tbody tr th {\n",
              "        vertical-align: top;\n",
              "    }\n",
              "\n",
              "    .dataframe thead th {\n",
              "        text-align: right;\n",
              "    }\n",
              "</style>\n",
              "<table border=\"1\" class=\"dataframe\">\n",
              "  <thead>\n",
              "    <tr style=\"text-align: right;\">\n",
              "      <th></th>\n",
              "      <th>Domestic</th>\n",
              "      <th>International</th>\n",
              "      <th>B2B</th>\n",
              "    </tr>\n",
              "  </thead>\n",
              "  <tbody>\n",
              "    <tr>\n",
              "      <th>a</th>\n",
              "      <td>12</td>\n",
              "      <td>15</td>\n",
              "      <td>0</td>\n",
              "    </tr>\n",
              "    <tr>\n",
              "      <th>b</th>\n",
              "      <td>3</td>\n",
              "      <td>3</td>\n",
              "      <td>7</td>\n",
              "    </tr>\n",
              "    <tr>\n",
              "      <th>c</th>\n",
              "      <td>9</td>\n",
              "      <td>19</td>\n",
              "      <td>18</td>\n",
              "    </tr>\n",
              "    <tr>\n",
              "      <th>d</th>\n",
              "      <td>4</td>\n",
              "      <td>6</td>\n",
              "      <td>12</td>\n",
              "    </tr>\n",
              "    <tr>\n",
              "      <th>f</th>\n",
              "      <td>1</td>\n",
              "      <td>6</td>\n",
              "      <td>7</td>\n",
              "    </tr>\n",
              "  </tbody>\n",
              "</table>\n",
              "</div>"
            ],
            "text/plain": [
              "   Domestic  International  B2B\n",
              "a        12             15    0\n",
              "b         3              3    7\n",
              "c         9             19   18\n",
              "d         4              6   12\n",
              "f         1              6    7"
            ]
          },
          "metadata": {},
          "execution_count": 79
        }
      ]
    },
    {
      "cell_type": "code",
      "metadata": {
        "colab": {
          "base_uri": "https://localhost:8080/"
        },
        "id": "Eezk-ZOvEP8S",
        "outputId": "33fc9cdb-1aeb-493f-972f-a7d96fd214f6"
      },
      "source": [
        "week_sales.shape"
      ],
      "execution_count": 80,
      "outputs": [
        {
          "output_type": "execute_result",
          "data": {
            "text/plain": [
              "(5, 3)"
            ]
          },
          "metadata": {},
          "execution_count": 80
        }
      ]
    },
    {
      "cell_type": "code",
      "metadata": {
        "colab": {
          "base_uri": "https://localhost:8080/"
        },
        "id": "Cd4PB1CLEUiW",
        "outputId": "dc9c9272-a9cf-401c-a5a8-800487a66397"
      },
      "source": [
        "#Comparison Operators\n",
        "a1"
      ],
      "execution_count": 81,
      "outputs": [
        {
          "output_type": "execute_result",
          "data": {
            "text/plain": [
              "array([1, 2, 3])"
            ]
          },
          "metadata": {},
          "execution_count": 81
        }
      ]
    },
    {
      "cell_type": "code",
      "metadata": {
        "colab": {
          "base_uri": "https://localhost:8080/"
        },
        "id": "ZNpcxdzJEtQv",
        "outputId": "772d58b2-4d5f-48be-ab6c-f6a441cd9edf"
      },
      "source": [
        "a2"
      ],
      "execution_count": 82,
      "outputs": [
        {
          "output_type": "execute_result",
          "data": {
            "text/plain": [
              "array([[1. , 2. , 3.3],\n",
              "       [4. , 5. , 6.5]])"
            ]
          },
          "metadata": {},
          "execution_count": 82
        }
      ]
    },
    {
      "cell_type": "code",
      "metadata": {
        "colab": {
          "base_uri": "https://localhost:8080/"
        },
        "id": "JsLUxc1VEuaI",
        "outputId": "8356f48c-7401-4ee6-b05e-88727aacee22"
      },
      "source": [
        "a1>a2"
      ],
      "execution_count": 83,
      "outputs": [
        {
          "output_type": "execute_result",
          "data": {
            "text/plain": [
              "array([[False, False, False],\n",
              "       [False, False, False]])"
            ]
          },
          "metadata": {},
          "execution_count": 83
        }
      ]
    },
    {
      "cell_type": "code",
      "metadata": {
        "colab": {
          "base_uri": "https://localhost:8080/"
        },
        "id": "UzTwWOI6EyMW",
        "outputId": "fd137c8d-e5dc-4aa1-c841-3e23bda8f404"
      },
      "source": [
        "a1>=a2"
      ],
      "execution_count": 84,
      "outputs": [
        {
          "output_type": "execute_result",
          "data": {
            "text/plain": [
              "array([[ True,  True, False],\n",
              "       [False, False, False]])"
            ]
          },
          "metadata": {},
          "execution_count": 84
        }
      ]
    },
    {
      "cell_type": "code",
      "metadata": {
        "colab": {
          "base_uri": "https://localhost:8080/"
        },
        "id": "y8ECXgo6E2HM",
        "outputId": "d7f8520b-dd62-4f5c-f76b-60ce5a41541c"
      },
      "source": [
        "a1>5"
      ],
      "execution_count": 85,
      "outputs": [
        {
          "output_type": "execute_result",
          "data": {
            "text/plain": [
              "array([False, False, False])"
            ]
          },
          "metadata": {},
          "execution_count": 85
        }
      ]
    },
    {
      "cell_type": "code",
      "metadata": {
        "colab": {
          "base_uri": "https://localhost:8080/"
        },
        "id": "rNj3KzyXE6A8",
        "outputId": "cf64fcda-323a-4017-e38b-a97da2cc049b"
      },
      "source": [
        "a1==a1"
      ],
      "execution_count": 86,
      "outputs": [
        {
          "output_type": "execute_result",
          "data": {
            "text/plain": [
              "array([ True,  True,  True])"
            ]
          },
          "metadata": {},
          "execution_count": 86
        }
      ]
    },
    {
      "cell_type": "code",
      "metadata": {
        "colab": {
          "base_uri": "https://localhost:8080/"
        },
        "id": "-cKlWbpdE9i0",
        "outputId": "d55e8b0a-dc0b-449b-9233-4afb8e94e101"
      },
      "source": [
        "a1==a2"
      ],
      "execution_count": 87,
      "outputs": [
        {
          "output_type": "execute_result",
          "data": {
            "text/plain": [
              "array([[ True,  True, False],\n",
              "       [False, False, False]])"
            ]
          },
          "metadata": {},
          "execution_count": 87
        }
      ]
    },
    {
      "cell_type": "markdown",
      "metadata": {
        "id": "FYFAI0snFJQY"
      },
      "source": [
        "#Text\n",
        ".np.sort()\n",
        ".np.argsort()\n",
        ".np.argmax()\n",
        ".np.argmin()"
      ]
    },
    {
      "cell_type": "code",
      "metadata": {
        "colab": {
          "base_uri": "https://localhost:8080/"
        },
        "id": "hMoFccg0FXM7",
        "outputId": "b6a1858d-c1c9-4177-a19d-ca8b6398d19f"
      },
      "source": [
        "random_array"
      ],
      "execution_count": 88,
      "outputs": [
        {
          "output_type": "execute_result",
          "data": {
            "text/plain": [
              "array([[5, 1, 1, 9],\n",
              "       [3, 7, 6, 2],\n",
              "       [8, 9, 1, 7],\n",
              "       [9, 6, 8, 4],\n",
              "       [7, 1, 9, 6]])"
            ]
          },
          "metadata": {},
          "execution_count": 88
        }
      ]
    },
    {
      "cell_type": "code",
      "metadata": {
        "colab": {
          "base_uri": "https://localhost:8080/"
        },
        "id": "9KgVLEzuFdEj",
        "outputId": "05ac1a1d-5ad9-4ad5-cf69-36ee12d7b550"
      },
      "source": [
        "np.sort(random_array)"
      ],
      "execution_count": 89,
      "outputs": [
        {
          "output_type": "execute_result",
          "data": {
            "text/plain": [
              "array([[1, 1, 5, 9],\n",
              "       [2, 3, 6, 7],\n",
              "       [1, 7, 8, 9],\n",
              "       [4, 6, 8, 9],\n",
              "       [1, 6, 7, 9]])"
            ]
          },
          "metadata": {},
          "execution_count": 89
        }
      ]
    },
    {
      "cell_type": "code",
      "metadata": {
        "colab": {
          "base_uri": "https://localhost:8080/"
        },
        "id": "n0wH7CXgFnEN",
        "outputId": "5509b1d8-6bdc-4494-c580-ac857cdc0287"
      },
      "source": [
        "np.argsort(random_array)"
      ],
      "execution_count": 90,
      "outputs": [
        {
          "output_type": "execute_result",
          "data": {
            "text/plain": [
              "array([[1, 2, 0, 3],\n",
              "       [3, 0, 2, 1],\n",
              "       [2, 3, 0, 1],\n",
              "       [3, 1, 2, 0],\n",
              "       [1, 3, 0, 2]])"
            ]
          },
          "metadata": {},
          "execution_count": 90
        }
      ]
    },
    {
      "cell_type": "code",
      "metadata": {
        "colab": {
          "base_uri": "https://localhost:8080/"
        },
        "id": "vvUccbK7Gqh5",
        "outputId": "b4e75337-f2de-4243-8908-544dd9104ef8"
      },
      "source": [
        "np.argmax(random_array)"
      ],
      "execution_count": 92,
      "outputs": [
        {
          "output_type": "execute_result",
          "data": {
            "text/plain": [
              "3"
            ]
          },
          "metadata": {},
          "execution_count": 92
        }
      ]
    },
    {
      "cell_type": "code",
      "metadata": {
        "colab": {
          "base_uri": "https://localhost:8080/"
        },
        "id": "vWji7GvVGzC8",
        "outputId": "de9b6ece-dae9-411e-8ce0-f2a9ca4d65bc"
      },
      "source": [
        "np.argmin(random_array)"
      ],
      "execution_count": 93,
      "outputs": [
        {
          "output_type": "execute_result",
          "data": {
            "text/plain": [
              "1"
            ]
          },
          "metadata": {},
          "execution_count": 93
        }
      ]
    },
    {
      "cell_type": "code",
      "metadata": {
        "colab": {
          "base_uri": "https://localhost:8080/"
        },
        "id": "UsG2LIfkIRgS",
        "outputId": "f45a4dfe-5256-460c-ed22-6387f81055a1"
      },
      "source": [
        "from matplotlib.image import imread\n",
        "panda=imread(\"numpy-panda.png\")\n",
        "panda"
      ],
      "execution_count": 94,
      "outputs": [
        {
          "output_type": "execute_result",
          "data": {
            "text/plain": [
              "array([[[0.05490196, 0.10588235, 0.06666667],\n",
              "        [0.05490196, 0.10588235, 0.06666667],\n",
              "        [0.05490196, 0.10588235, 0.06666667],\n",
              "        ...,\n",
              "        [0.16470589, 0.12941177, 0.09411765],\n",
              "        [0.16470589, 0.12941177, 0.09411765],\n",
              "        [0.16470589, 0.12941177, 0.09411765]],\n",
              "\n",
              "       [[0.05490196, 0.10588235, 0.06666667],\n",
              "        [0.05490196, 0.10588235, 0.06666667],\n",
              "        [0.05490196, 0.10588235, 0.06666667],\n",
              "        ...,\n",
              "        [0.16470589, 0.12941177, 0.09411765],\n",
              "        [0.16470589, 0.12941177, 0.09411765],\n",
              "        [0.16470589, 0.12941177, 0.09411765]],\n",
              "\n",
              "       [[0.05490196, 0.10588235, 0.06666667],\n",
              "        [0.05490196, 0.10588235, 0.06666667],\n",
              "        [0.05490196, 0.10588235, 0.06666667],\n",
              "        ...,\n",
              "        [0.16470589, 0.12941177, 0.09411765],\n",
              "        [0.16470589, 0.12941177, 0.09411765],\n",
              "        [0.16470589, 0.12941177, 0.09411765]],\n",
              "\n",
              "       ...,\n",
              "\n",
              "       [[0.13333334, 0.07450981, 0.05490196],\n",
              "        [0.12156863, 0.0627451 , 0.04313726],\n",
              "        [0.10980392, 0.05098039, 0.03137255],\n",
              "        ...,\n",
              "        [0.02745098, 0.02745098, 0.03529412],\n",
              "        [0.02745098, 0.02745098, 0.03529412],\n",
              "        [0.02745098, 0.02745098, 0.03529412]],\n",
              "\n",
              "       [[0.13333334, 0.07450981, 0.05490196],\n",
              "        [0.12156863, 0.0627451 , 0.04313726],\n",
              "        [0.12156863, 0.0627451 , 0.04313726],\n",
              "        ...,\n",
              "        [0.02352941, 0.02352941, 0.03137255],\n",
              "        [0.02352941, 0.02352941, 0.03137255],\n",
              "        [0.02352941, 0.02352941, 0.03137255]],\n",
              "\n",
              "       [[0.13333334, 0.07450981, 0.05490196],\n",
              "        [0.12156863, 0.0627451 , 0.04313726],\n",
              "        [0.12156863, 0.0627451 , 0.04313726],\n",
              "        ...,\n",
              "        [0.02352941, 0.02352941, 0.03137255],\n",
              "        [0.02352941, 0.02352941, 0.03137255],\n",
              "        [0.02352941, 0.02352941, 0.03137255]]], dtype=float32)"
            ]
          },
          "metadata": {},
          "execution_count": 94
        }
      ]
    },
    {
      "cell_type": "code",
      "metadata": {
        "colab": {
          "base_uri": "https://localhost:8080/"
        },
        "id": "Q-LE9V_7I3Lm",
        "outputId": "1598f53e-cefd-43ac-e85c-19c171ef250a"
      },
      "source": [
        "type(panda)"
      ],
      "execution_count": 95,
      "outputs": [
        {
          "output_type": "execute_result",
          "data": {
            "text/plain": [
              "numpy.ndarray"
            ]
          },
          "metadata": {},
          "execution_count": 95
        }
      ]
    },
    {
      "cell_type": "code",
      "metadata": {
        "colab": {
          "base_uri": "https://localhost:8080/"
        },
        "id": "3j1oLARmJCyA",
        "outputId": "b6b662c9-f49e-496b-9e19-30469775ecfe"
      },
      "source": [
        "panda.shape"
      ],
      "execution_count": 97,
      "outputs": [
        {
          "output_type": "execute_result",
          "data": {
            "text/plain": [
              "(2330, 3500, 3)"
            ]
          },
          "metadata": {},
          "execution_count": 97
        }
      ]
    },
    {
      "cell_type": "code",
      "metadata": {
        "colab": {
          "base_uri": "https://localhost:8080/"
        },
        "id": "lV1K9_xFJLmw",
        "outputId": "d4b65f3b-813a-4b48-deda-8d04b8a6ade2"
      },
      "source": [
        "panda[:,:,:5]"
      ],
      "execution_count": 99,
      "outputs": [
        {
          "output_type": "execute_result",
          "data": {
            "text/plain": [
              "array([[[0.05490196, 0.10588235, 0.06666667],\n",
              "        [0.05490196, 0.10588235, 0.06666667],\n",
              "        [0.05490196, 0.10588235, 0.06666667],\n",
              "        ...,\n",
              "        [0.16470589, 0.12941177, 0.09411765],\n",
              "        [0.16470589, 0.12941177, 0.09411765],\n",
              "        [0.16470589, 0.12941177, 0.09411765]],\n",
              "\n",
              "       [[0.05490196, 0.10588235, 0.06666667],\n",
              "        [0.05490196, 0.10588235, 0.06666667],\n",
              "        [0.05490196, 0.10588235, 0.06666667],\n",
              "        ...,\n",
              "        [0.16470589, 0.12941177, 0.09411765],\n",
              "        [0.16470589, 0.12941177, 0.09411765],\n",
              "        [0.16470589, 0.12941177, 0.09411765]],\n",
              "\n",
              "       [[0.05490196, 0.10588235, 0.06666667],\n",
              "        [0.05490196, 0.10588235, 0.06666667],\n",
              "        [0.05490196, 0.10588235, 0.06666667],\n",
              "        ...,\n",
              "        [0.16470589, 0.12941177, 0.09411765],\n",
              "        [0.16470589, 0.12941177, 0.09411765],\n",
              "        [0.16470589, 0.12941177, 0.09411765]],\n",
              "\n",
              "       ...,\n",
              "\n",
              "       [[0.13333334, 0.07450981, 0.05490196],\n",
              "        [0.12156863, 0.0627451 , 0.04313726],\n",
              "        [0.10980392, 0.05098039, 0.03137255],\n",
              "        ...,\n",
              "        [0.02745098, 0.02745098, 0.03529412],\n",
              "        [0.02745098, 0.02745098, 0.03529412],\n",
              "        [0.02745098, 0.02745098, 0.03529412]],\n",
              "\n",
              "       [[0.13333334, 0.07450981, 0.05490196],\n",
              "        [0.12156863, 0.0627451 , 0.04313726],\n",
              "        [0.12156863, 0.0627451 , 0.04313726],\n",
              "        ...,\n",
              "        [0.02352941, 0.02352941, 0.03137255],\n",
              "        [0.02352941, 0.02352941, 0.03137255],\n",
              "        [0.02352941, 0.02352941, 0.03137255]],\n",
              "\n",
              "       [[0.13333334, 0.07450981, 0.05490196],\n",
              "        [0.12156863, 0.0627451 , 0.04313726],\n",
              "        [0.12156863, 0.0627451 , 0.04313726],\n",
              "        ...,\n",
              "        [0.02352941, 0.02352941, 0.03137255],\n",
              "        [0.02352941, 0.02352941, 0.03137255],\n",
              "        [0.02352941, 0.02352941, 0.03137255]]], dtype=float32)"
            ]
          },
          "metadata": {},
          "execution_count": 99
        }
      ]
    }
  ]
}